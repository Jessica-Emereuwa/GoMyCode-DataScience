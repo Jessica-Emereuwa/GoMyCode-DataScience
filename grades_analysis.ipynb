{
  "nbformat": 4,
  "nbformat_minor": 0,
  "metadata": {
    "colab": {
      "provenance": [],
      "authorship_tag": "ABX9TyNU9lDEXcs7cBqYqQRX3Fj6",
      "include_colab_link": true
    },
    "kernelspec": {
      "name": "python3",
      "display_name": "Python 3"
    },
    "language_info": {
      "name": "python"
    }
  },
  "cells": [
    {
      "cell_type": "markdown",
      "metadata": {
        "id": "view-in-github",
        "colab_type": "text"
      },
      "source": [
        "<a href=\"https://colab.research.google.com/github/Jessica-Emereuwa/GoMyCode-DataScience/blob/main/grades_analysis.ipynb\" target=\"_parent\"><img src=\"https://colab.research.google.com/assets/colab-badge.svg\" alt=\"Open In Colab\"/></a>"
      ]
    },
    {
      "cell_type": "code",
      "execution_count": null,
      "metadata": {
        "colab": {
          "base_uri": "https://localhost:8080/"
        },
        "id": "OllpMRioNnvJ",
        "outputId": "627ca9b9-b9a5-458d-a0b3-f5cfdccb47c3"
      },
      "outputs": [
        {
          "output_type": "stream",
          "name": "stdout",
          "text": [
            "The mean of the of the grade is:  87.5\n",
            "The median of the grade is:  88.5\n",
            "The standard deviation of the grade is:  6.591661399070799\n",
            "The Minimum grade is:  75\n",
            "The Maximum grade is:  98\n",
            "Sorting grade in ascending order:  [75 80 83 85 88 89 90 92 95 98]\n",
            "Index of the highest grade:  7\n",
            "Number of students who scored above 90: 3\n",
            "Percentage of students who scored above 90: 30.0\n",
            "Percentage of students who scored below 75: 0.0\n",
            "High performers: [92 95 98]\n",
            "Passing grades: [85 90 88 92 95 80 98 89 83]\n"
          ]
        }
      ],
      "source": [
        "\"\"\"\n",
        "Create a numpy array called \"grades\" that contains the following grades: [85, 90, 88, 92, 95, 80, 75, 98, 89, 83]\n",
        "\n",
        "\n",
        "Instructions\n",
        "\n",
        "Create a new file called \"grades_analysis.py\"\n",
        "Import the numpy library and create the \"grades\" array as specified above.\n",
        "Use numpy functions to calculate the mean, median, and standard deviation of the grades.\n",
        "Use numpy function to find the maximum and minimum of the grades.\n",
        "Use numpy function to sort the grades in ascending order.\n",
        "Use numpy function to find the index of the highest grade in the array.\n",
        "Use numpy function to count the number of students who scored above 90.\n",
        "Use numpy function to calculate the percentage of students who scored above 90.\n",
        "Use numpy function to calculate the percentage of students who scored below 75.\n",
        "Use numpy function to extract all the grades above 90 and put them in a new array called \"high_performers\".\n",
        "Create a new array called \"passing_grades\" that contains all the grades above 75.\n",
        "Print the result of all the above steps.\n",
        "Note:\n",
        "\n",
        "to calculate percentage use numpy.mean(grades > 90) * 100\n",
        "to extract the grades above 90 use grades[grades > 90]\n",
        "to extract the grades above 75 use grades[grades > 75]\n",
        "\"\"\"\n",
        "\n",
        "\n",
        "\n",
        "import numpy as np\n",
        "# Create grades array\n",
        "grades = np.array([85, 90, 88, 92, 95, 80, 75, 98, 89, 83])\n",
        "\n",
        "# Calculate the mean, median, and standard deviation of the grades.\n",
        "grades_mean = np.mean(grades)\n",
        "print(\"The mean of the of the grade is: \", grades_mean)\n",
        "\n",
        "grades_median = np.median(grades)\n",
        "print(\"The median of the grade is: \", grades_median)\n",
        "\n",
        "grades_standiv = np.std(grades)\n",
        "print(\"The standard deviation of the grade is: \",grades_standiv)\n",
        "\n",
        "# Find the minimum of the grades.\n",
        "print(\"The Minimum grade is: \", np.min(grades))\n",
        "\n",
        "# Find the maximum of the grades.\n",
        "print(\"The Maximum grade is: \", np.max(grades))\n",
        "\n",
        "# Sort the grades in ascending order.\n",
        "print(\"Sorting grade in ascending order: \", np.sort(grades))\n",
        "\n",
        "# Index of the highest grade in the array.\n",
        "print(\"Index of the highest grade: \", np.argmax(grades))\n",
        "\n",
        "# Count the number of students who scored above 90.\n",
        "above_90 = np.sum(grades > 90)\n",
        "print(\"Number of students who scored above 90:\", above_90)\n",
        "\n",
        "# Calculate the percentage of students who scored above 90\n",
        "percentage_above_90 = np.mean(grades > 90) * 100\n",
        "print(\"Percentage of students who scored above 90:\", percentage_above_90)\n",
        "\n",
        "# Calculate the percentage of students who scored below 75\n",
        "percentage_below_75 = np.mean(grades < 75) * 100\n",
        "print(\"Percentage of students who scored below 75:\", percentage_below_75)\n",
        "\n",
        "# Extract grades above 90\n",
        "high_performers = grades[grades > 90]\n",
        "\n",
        "print(\"High performers:\", high_performers)\n",
        "\n",
        "# Extract grades above 75\n",
        "passing_grades = grades[grades > 75]\n",
        "\n",
        "print(\"Passing grades:\", passing_grades)"
      ]
    }
  ]
}