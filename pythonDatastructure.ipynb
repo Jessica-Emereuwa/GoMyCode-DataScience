{
  "nbformat": 4,
  "nbformat_minor": 0,
  "metadata": {
    "colab": {
      "provenance": [],
      "authorship_tag": "ABX9TyP5KBGMt6CXe6zZ2sjz3bNo",
      "include_colab_link": true
    },
    "kernelspec": {
      "name": "python3",
      "display_name": "Python 3"
    },
    "language_info": {
      "name": "python"
    }
  },
  "cells": [
    {
      "cell_type": "markdown",
      "metadata": {
        "id": "view-in-github",
        "colab_type": "text"
      },
      "source": [
        "<a href=\"https://colab.research.google.com/github/Jessica-Emereuwa/GoMyCode-DataScience/blob/main/pythonDatastructure.ipynb\" target=\"_parent\"><img src=\"https://colab.research.google.com/assets/colab-badge.svg\" alt=\"Open In Colab\"/></a>"
      ]
    },
    {
      "cell_type": "code",
      "execution_count": 2,
      "metadata": {
        "id": "SZ3wJI9vFa9x",
        "colab": {
          "base_uri": "https://localhost:8080/"
        },
        "outputId": "2b442782-c61c-4891-99af-a98154ddc51e"
      },
      "outputs": [
        {
          "output_type": "stream",
          "name": "stdout",
          "text": [
            "\n",
            "Shopping List Menu:\n",
            "1. Add item\n",
            "2. Remove item\n",
            "3. View list\n",
            "4. Exit\n",
            "Enter your choice (1/2/3/4): 1\n",
            "Enter the item to add: shirt\n",
            "shirt added to the list.\n",
            "\n",
            "Shopping List Menu:\n",
            "1. Add item\n",
            "2. Remove item\n",
            "3. View list\n",
            "4. Exit\n",
            "Enter your choice (1/2/3/4): 3\n",
            "\n",
            "Your Shopping List:\n",
            "1. shirt\n",
            "\n",
            "Shopping List Menu:\n",
            "1. Add item\n",
            "2. Remove item\n",
            "3. View list\n",
            "4. Exit\n",
            "Enter your choice (1/2/3/4): 4\n",
            "Exiting. Goodbye!\n"
          ]
        }
      ],
      "source": [
        "\"\"\"\n",
        "Create a program that allows the user to manage their shopping list. The user should be able to add items to the list, remove items, and view the current list of items.\n",
        "\n",
        "\n",
        "Instructions\n",
        "\n",
        "Statement:\n",
        "\n",
        "1.Create a list to store the shopping items\n",
        "2.Use a while loop to create a menu of options for the user to add, remove, or view items from the list\n",
        "3.Use a for loop to iterate through the list of items and display them to the user\n",
        "4.Use the range() function to limit the number of items that can be added to the list\n",
        "5.Use the list, tuple, set, and dictionary data structures to store and manipulate the shopping items\n",
        "Instructions:\n",
        "\n",
        "1.Create a list named 'shopping_list' to store the items.\n",
        "2.Use a while loop to create a menu of options for the user to add, remove, or view items from the list.\n",
        "3.Use the input() function to prompt the user to make a selection from the menu.\n",
        "4.Use an if-elif-else block to determine the user's selection and perform the corresponding action.\n",
        "5.If the user selects 'add', use the input() function to prompt the user to enter an item to add to the list. Use the range() function to limit the number of items that can be added to the list.\n",
        "6.If the user selects 'remove', use the input() function to prompt the user to enter an item to remove from the list.\n",
        "7.If the user selects 'view', use a for loop to iterate through the list of items and display them to the user.\n",
        "8.Use the list, tuple, set, and dictionary data structures to store and manipulate the shopping items.\n",
        "\"\"\"\n",
        "\n",
        "\n",
        "# Create an empty list named 'shopping_list' to store the items\n",
        "shopping_list = []\n",
        "\n",
        "# Use a while loop to create a menu of options for the user\n",
        "#use the while True loop to ensure the program keeps running until the user chooses to Exit\n",
        "while True:\n",
        "    print(\"\\nShopping List Menu:\")\n",
        "    print(\"1. Add item\")\n",
        "    print(\"2. Remove item\")\n",
        "    print(\"3. View list\")\n",
        "    print(\"4. Exit\")\n",
        "# For the user to enter their menu choice\n",
        "    choice = input(\"Enter your choice (1/2/3/4): \")\n",
        "\n",
        "    # Add item\n",
        "    # If the user chooses to add an item.\n",
        "    # it checks if the list already has 5 items (the limit set in the code).\n",
        "    # If not, it prompts the user to enter an item and adds it to the list.\n",
        "\n",
        "    if choice == '1':\n",
        "        if len(shopping_list) >= 5:\n",
        "            print(\"You can't add more than 5 items to your list.\")\n",
        "        else:\n",
        "            item = input(\"Enter the item to add: \").lower()\n",
        "            shopping_list.append(item)\n",
        "            print(f\"{item} added to the list.\")\n",
        "\n",
        "    # Remove item\n",
        "    elif choice == '2':\n",
        "        if len(shopping_list) == 0:\n",
        "            print(\"The shopping list is empty.\")\n",
        "        else:\n",
        "            item = input(\"Enter the item to remove: \")\n",
        "            if item in shopping_list:\n",
        "                shopping_list.remove(item)\n",
        "                print(f\"'{item}' removed from the shopping list.\")\n",
        "            else:\n",
        "                print(f\"'{item}' not found in the shopping list.\")\n",
        "    # When the user want to view the list\n",
        "    elif choice == '3':\n",
        "        print(\"\\nYour Shopping List:\")\n",
        "        if shopping_list:\n",
        "            for index, item in enumerate(shopping_list, start=1):\n",
        "                print(f\"{index}. {item}\")\n",
        "        else:\n",
        "            print(\"Your shopping list is empty!!! Kindly pick another option.\")\n",
        "\n",
        "    # Exit\n",
        "    elif choice == '4':\n",
        "        print(\"Exiting. Goodbye!\")\n",
        "        break\n",
        "\n",
        "    # when the user input an invalid choice\n",
        "    else:\n",
        "        print(\"Invalid choice. Please enter a valid option (1/2/3/4).\")\n"
      ]
    }
  ]
}