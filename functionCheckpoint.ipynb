{
  "nbformat": 4,
  "nbformat_minor": 0,
  "metadata": {
    "colab": {
      "provenance": [],
      "authorship_tag": "ABX9TyPV5GkwmTwVyNOVs2+4Qkad",
      "include_colab_link": true
    },
    "kernelspec": {
      "name": "python3",
      "display_name": "Python 3"
    },
    "language_info": {
      "name": "python"
    }
  },
  "cells": [
    {
      "cell_type": "markdown",
      "metadata": {
        "id": "view-in-github",
        "colab_type": "text"
      },
      "source": [
        "<a href=\"https://colab.research.google.com/github/Jessica-Emereuwa/GoMyCode-DataScience/blob/main/functionCheckpoint.ipynb\" target=\"_parent\"><img src=\"https://colab.research.google.com/assets/colab-badge.svg\" alt=\"Open In Colab\"/></a>"
      ]
    },
    {
      "cell_type": "code",
      "execution_count": 1,
      "metadata": {
        "id": "31Qt-E6UGyOP",
        "colab": {
          "base_uri": "https://localhost:8080/"
        },
        "outputId": "606248e2-2d46-459b-9944-9db9aad745ad"
      },
      "outputs": [
        {
          "output_type": "stream",
          "name": "stdout",
          "text": [
            "Enter the first number: 5\n",
            "Available operations:\n",
            "+ - * / \n",
            "Choose an operation symbol: /\n",
            "Enter the second number: 6\n",
            "5.0 / 6.0 = 0.8333333333333334\n",
            "Do you want to continue using the result? (yes/no): yes\n",
            "Available operations:\n",
            "+ - * / \n",
            "Choose an operation symbol: -\n",
            "Enter the second number: 8\n",
            "0.8333333333333334 - 8.0 = -7.166666666666667\n",
            "Do you want to continue using the result? (yes/no): 7\n",
            "Invalid option. Exiting.\n"
          ]
        }
      ],
      "source": [
        "\"\"\"\n",
        "Create a calculator program that allows the user to perform mathematical operations on two numbers using basic functions and a dictionary to store the operations. The program should also have the ability to continue calculations with the result of previous calculations.\n",
        "\n",
        "Instructions\n",
        "\n",
        "1.Create four basic mathematical functions: 'add', 'subtract', 'multiply', and 'divide' that take in two numbers and return the result of the operation.\n",
        "2.Create a dictionary 'operations' that assigns the functions to their corresponding operation symbols.\n",
        "3.Create a function 'calculator' that prompts the user to input the first number.\n",
        "4.Use a for loop to print the available operation symbols.\n",
        "5.Create a while loop that will continue to run until the user chooses to end the current calculation.\n",
        "6.Inside the while loop, prompt the user to select an operation symbol.\n",
        "7.Prompt the user to input the second number.\n",
        "8.Use the dictionary to retrieve the function that corresponds to the selected operation symbol and store it in a variable 'calculation_function'\n",
        "9.Perform the calculation by calling the 'calculation_function' on the two input numbers and store the result in a variable 'answer'.\n",
        "10.Print the equation and the result of the calculation.\n",
        "11.Ask the user if they would like to continue using the result as the first number for further calculations.\n",
        "12.If the user chooses to continue, update the 'num1' variable to the value of 'answer'.\n",
        "13.If the user chooses to start a new calculation, set the 'should_continue' variable to false and call the 'calculator' function to start a new calculation.\n",
        "\n",
        "\"\"\"\n",
        "\n",
        "\n",
        "# Create basic mathematical functions\n",
        "def add(x, y):\n",
        "    return x + y\n",
        "\n",
        "def subtract(x, y):\n",
        "    return x - y\n",
        "\n",
        "def multiply(x, y):\n",
        "    return x * y\n",
        "\n",
        "def divide(x, y):\n",
        "    if y == 0:\n",
        "        return \"Error: Cannot divide by zero\"\n",
        "    return x / y\n",
        "\n",
        "# Dictionary mapping operation symbols to functions\n",
        "operations = {\n",
        "    '+': add,\n",
        "    '-': subtract,\n",
        "    '*': multiply,\n",
        "    '/': divide\n",
        "}\n",
        "\n",
        "# Calculator function\n",
        "def calculator():\n",
        "    num1 = float(input(\"Enter the first number: \"))\n",
        "    should_continue = True\n",
        "\n",
        "    while should_continue:\n",
        "        print(\"Available operations:\")\n",
        "        for symbol in operations:\n",
        "            print(symbol, end=' ')\n",
        "        print()\n",
        "\n",
        "        operation = input(\"Choose an operation symbol: \")\n",
        "        if operation not in operations:\n",
        "            print(\"Invalid operation symbol!\")\n",
        "            continue\n",
        "\n",
        "        num2 = float(input(\"Enter the second number: \"))\n",
        "        calculation_function = operations[operation]\n",
        "        answer = calculation_function(num1, num2)\n",
        "\n",
        "        print(f\"{num1} {operation} {num2} = {answer}\")\n",
        "\n",
        "        option = input(\"Do you want to continue using the result? (yes/no): \").lower()\n",
        "        if option == \"yes\":\n",
        "            num1 = answer\n",
        "        elif option == \"no\":\n",
        "            should_continue = False\n",
        "        else:\n",
        "            print(\"Invalid option. Exiting.\")\n",
        "            should_continue = False\n",
        "\n",
        "# Start the calculator\n",
        "calculator()\n"
      ]
    }
  ]
}