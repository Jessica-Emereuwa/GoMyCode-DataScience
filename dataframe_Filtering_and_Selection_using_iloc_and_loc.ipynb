{
  "nbformat": 4,
  "nbformat_minor": 0,
  "metadata": {
    "colab": {
      "provenance": [],
      "authorship_tag": "ABX9TyPoK0rhfN+P8chhmlG9LYRK",
      "include_colab_link": true
    },
    "kernelspec": {
      "name": "python3",
      "display_name": "Python 3"
    },
    "language_info": {
      "name": "python"
    }
  },
  "cells": [
    {
      "cell_type": "markdown",
      "metadata": {
        "id": "view-in-github",
        "colab_type": "text"
      },
      "source": [
        "<a href=\"https://colab.research.google.com/github/Jessica-Emereuwa/GoMyCode-DataScience/blob/main/dataframe_Filtering_and_Selection_using_iloc_and_loc.ipynb\" target=\"_parent\"><img src=\"https://colab.research.google.com/assets/colab-badge.svg\" alt=\"Open In Colab\"/></a>"
      ]
    },
    {
      "cell_type": "code",
      "execution_count": null,
      "metadata": {
        "colab": {
          "base_uri": "https://localhost:8080/"
        },
        "id": "LbdrrABxLg4w",
        "outputId": "b8163efe-9d75-491a-88f5-85b532e24570"
      },
      "outputs": [
        {
          "output_type": "stream",
          "name": "stdout",
          "text": [
            "    Name  Departmet  Age  Gender  Salary  Experience\n",
            "0   John         IT   30    Male   50000           3\n",
            "1   Mary  Marketing   40  Female   60000           7\n",
            "2    Bob      Sales   25    Male   45000           2\n",
            "3  Sarah         IT   35  Female   55000           5\n",
            "4    Tom    Finance   45    Male   70000          10\n",
            "5   Lisa  Marketing   28  Female   55000           4\n"
          ]
        }
      ],
      "source": [
        "\"\"\"\n",
        "In this exercise, you will work with a dataset called \"employee info\" that contains information about employees in a company. The dataset includes columns such as Name, Department, Age, Gender, Salary, and Experience.\n",
        "\n",
        "\n",
        "Instructions\n",
        "\n",
        "Create a dataframe called \"employee_df\" with the following data:\n",
        "\n",
        "import pandas as pd\n",
        "\n",
        "data = {'Name': ['John', 'Mary', 'Bob', 'Sarah', 'Tom', 'Lisa'], 'Department': ['IT', 'Marketing', 'Sales', 'IT', 'Finance', 'Marketing'], 'Age': [30, 40, 25, 35, 45, 28], 'Gender': ['Male', 'Female', 'Male', 'Female', 'Male', 'Female'], 'Salary': [50000, 60000, 45000, 55000, 70000, 55000], 'Experience': [3, 7, 2, 5, 10, 4]}\n",
        "\n",
        " employee_df = pd.DataFrame(data)\n",
        "\n",
        "\n",
        "\n",
        "Use the iloc method to select the first 3 rows of the dataframe.\n",
        "Use the loc method to select all rows where the Department is \"Marketing\".\n",
        "Use the iloc method to select the Age and Gender columns for the first 4 rows of the dataframe.\n",
        "Use the loc method to select the Salary and Experience columns for all rows where the Gender is \"Male\".\n",
        "Note:\n",
        "\n",
        "iloc is used for selection by index location\n",
        "loc is used for selection by label.\n",
        "\n",
        "\n",
        "\n",
        "How We'll Evaluate\n",
        "\n",
        "Your checkpoint will be evaluated based on these criteria, each rated from 0 to 5.\n",
        "\n",
        "What We're Looking For\n",
        "\n",
        "Student must be able to import the pandas library and create a dataframe called \"employee_df\" using the provided data dictionary. The dataframe should include all columns and rows specified in the instructions.\n",
        "\n",
        "Student must be able to use the iloc method to select the first 3 rows of the dataframe. The resulting output should match the expected output, which includes the first 3 rows of the dataframe.\n",
        "\n",
        "Student must be able to use the loc method to select all rows where the Department is \"Marketing\". The resulting output should match the expected output, which includes all rows where the Department is \"Marketing\".\n",
        "\n",
        "Student must be able to use the iloc method to select the Age and Gender columns for the first 4 rows of the dataframe. The resulting output should match the expected output, which includes the Age and Gender columns for the first 4 rows of the dataframe.\n",
        "\n",
        "Student must be able to use the loc method to select the Salary and Experience columns for all rows where the Gender is \"Male\". The resulting output should match the expected output, which includes the Salary and Experience columns for all rows where the Gender is \"Male\".\n",
        "\"\"\"\n",
        "\n",
        "\n",
        "\n",
        "import pandas as pd\n",
        "\n",
        "data = {\n",
        "    'Name': ['John', 'Mary', 'Bob', 'Sarah', 'Tom', 'Lisa'],\n",
        "    'Departmet': ['IT', 'Marketing', 'Sales', 'IT', 'Finance','Marketing'],\n",
        "    'Age': [30, 40, 25, 35, 45, 28],\n",
        "    'Gender': ['Male', 'Female', 'Male', 'Female', 'Male', 'Female'],\n",
        "    'Salary': [50000, 60000, 45000, 55000, 70000, 55000],\n",
        "    'Experience': [3, 7, 2, 5, 10, 4]\n",
        "}\n",
        "\n",
        "employee_df = pd.DataFrame(data)\n"
      ]
    },
    {
      "cell_type": "code",
      "source": [
        "# Selecting the first 3 rows using iloc\n",
        "print(employee_df.iloc[:3])"
      ],
      "metadata": {
        "colab": {
          "base_uri": "https://localhost:8080/"
        },
        "id": "P2A-TBDjOFw4",
        "outputId": "32643cc2-3813-478a-af53-37efb933fe65"
      },
      "execution_count": null,
      "outputs": [
        {
          "output_type": "stream",
          "name": "stdout",
          "text": [
            "   Name  Departmet  Age  Gender  Salary  Experience\n",
            "0  John         IT   30    Male   50000           3\n",
            "1  Mary  Marketing   40  Female   60000           7\n",
            "2   Bob      Sales   25    Male   45000           2\n"
          ]
        }
      ]
    },
    {
      "cell_type": "code",
      "source": [
        "# Selecting all rows where Department is \"Marketing\" using loc\n",
        "print(employee_df.loc[employee_df['Departmet'] == 'Marketing'])"
      ],
      "metadata": {
        "colab": {
          "base_uri": "https://localhost:8080/"
        },
        "id": "63K95qo4Peb6",
        "outputId": "04f4ccb5-a265-4f9e-8fce-9b94538b7b70"
      },
      "execution_count": null,
      "outputs": [
        {
          "output_type": "stream",
          "name": "stdout",
          "text": [
            "   Name  Departmet  Age  Gender  Salary  Experience\n",
            "1  Mary  Marketing   40  Female   60000           7\n",
            "5  Lisa  Marketing   28  Female   55000           4\n"
          ]
        }
      ]
    },
    {
      "cell_type": "code",
      "source": [
        "# Selecting Age and Gender columns for the first 4 rows using iloc\n",
        "print(employee_df.iloc[:4, [2, -3]])"
      ],
      "metadata": {
        "colab": {
          "base_uri": "https://localhost:8080/"
        },
        "id": "yjFnQ9eWP29X",
        "outputId": "8f3d4d3c-c8ac-4b29-eeb7-fb2d30c7f443"
      },
      "execution_count": null,
      "outputs": [
        {
          "output_type": "stream",
          "name": "stdout",
          "text": [
            "   Age  Gender\n",
            "0   30    Male\n",
            "1   40  Female\n",
            "2   25    Male\n",
            "3   35  Female\n"
          ]
        }
      ]
    },
    {
      "cell_type": "code",
      "source": [
        "# Selecting Salary and Experience columns for all rows where Gender is \"Male\" using loc\n",
        "print(employee_df.loc[employee_df['Gender'] == 'Male', ['Salary', 'Experience']])"
      ],
      "metadata": {
        "colab": {
          "base_uri": "https://localhost:8080/"
        },
        "id": "QtLr7U7sRAJv",
        "outputId": "a0204791-c0fd-4119-bc69-157a6438b283"
      },
      "execution_count": null,
      "outputs": [
        {
          "output_type": "stream",
          "name": "stdout",
          "text": [
            "   Salary  Experience\n",
            "0   50000           3\n",
            "2   45000           2\n",
            "4   70000          10\n"
          ]
        }
      ]
    }
  ]
}