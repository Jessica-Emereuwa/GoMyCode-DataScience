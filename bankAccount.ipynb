{
  "nbformat": 4,
  "nbformat_minor": 0,
  "metadata": {
    "colab": {
      "provenance": [],
      "authorship_tag": "ABX9TyO1FukkAhDhee7/7CSNuhaK",
      "include_colab_link": true
    },
    "kernelspec": {
      "name": "python3",
      "display_name": "Python 3"
    },
    "language_info": {
      "name": "python"
    }
  },
  "cells": [
    {
      "cell_type": "markdown",
      "metadata": {
        "id": "view-in-github",
        "colab_type": "text"
      },
      "source": [
        "<a href=\"https://colab.research.google.com/github/Jessica-Emereuwa/GoMyCode-DataScience/blob/main/bankAccount.ipynb\" target=\"_parent\"><img src=\"https://colab.research.google.com/assets/colab-badge.svg\" alt=\"Open In Colab\"/></a>"
      ]
    },
    {
      "cell_type": "code",
      "execution_count": 5,
      "metadata": {
        "id": "ugRKcziuzIR4",
        "colab": {
          "base_uri": "https://localhost:8080/"
        },
        "outputId": "4ebd19b2-d6c6-4afb-d9a5-40d4a42064a9"
      },
      "outputs": [
        {
          "output_type": "stream",
          "name": "stdout",
          "text": [
            "Initial balance: 0.0\n",
            "Deposited $500.0. New balance: $500.0\n",
            "Withdrew $200.0. New balance: $300.0\n",
            "Insufficient funds. Withdrawal canceled.\n",
            "Final balance: 300.0\n"
          ]
        }
      ],
      "source": [
        "\"\"\"\n",
        "1.Create a class called \"Account\" that has the following attributes:\n",
        "\n",
        ".account_number (string)\n",
        ".account_balance (float)\n",
        ".account_holder (string)\n",
        "\n",
        "-The class should have the following methods:\n",
        "\n",
        ".deposit(amount: float) - This method should add the amount passed as an argument to the account balance.\n",
        ".withdraw(amount: float) - This method should subtract the amount passed as an argument from the account balance, but only if the account balance is greater than the amount being withdrawn.\n",
        ".check_balance() - This method should return the current account balance.\n",
        "\n",
        "Instructions\n",
        "\n",
        "1.Create a new file called \"bank_account.py\"\n",
        "2.Define the Account class and its attributes as specified above.\n",
        "3.Define the deposit() method. It should take in one argument, the amount to be deposited, and add it to the account balance.\n",
        "4.Define the withdraw() method. It should take in one argument, the amount to be withdrawn, and subtract it from the account balance. The method should only execute the withdrawal if the account balance is greater than or equal to the amount to be withdrawn.\n",
        "5.Define the check_balance() method. It should return the current account balance.\n",
        "6.Create an instance of the Account class, and assign it to a variable called \"my_account\".\n",
        "7.Use the methods of the class to deposit and withdraw money from the account, and check the account balance.\n",
        "Test the program by creating multiple instances of the class and performing different transactions on them.\n",
        "\"\"\"\n",
        "\n",
        "\n",
        "\n",
        "import random\n",
        "\n",
        "class Account:\n",
        "    def __init__(self, account_holder: str):\n",
        "        self.account_number = self.generate_account_number()\n",
        "        self.account_balance = 0.0\n",
        "        self.account_holder = account_holder\n",
        "\n",
        "    def generate_account_number(self):\n",
        "        #Generate a unique account number\n",
        "        return ''.join(str(random.randint(0, 9)) for _ in range(9))# call random number from 0 to 9\n",
        "\n",
        "    def deposit(self, amount: float):\n",
        "        #Add the specified amount to the account balance\n",
        "        self.account_balance += amount\n",
        "        print(f\"Deposited ${amount}. New balance: ${self.account_balance}\")\n",
        "\n",
        "    def withdraw(self, amount: float):\n",
        "        #Subtract the specified amount from the account balance if sufficient funds are available.\n",
        "       if self.account_balance >= amount:\n",
        "            self.account_balance -= amount\n",
        "            print(f\"Withdrew ${amount}. New balance: ${self.account_balance}\")\n",
        "       else:\n",
        "            print(\"Insufficient funds. Withdrawal canceled.\")\n",
        "\n",
        "    def check_balance(self):\n",
        "        \"\"\"Return the current account balance.\"\"\"\n",
        "        return self.account_balance\n",
        "\n",
        "\n",
        "# Create an instance of the Account class\n",
        "my_account = Account(account_holder=\"Jessica Emereuwa\")\n",
        "\n",
        "# Test the methods of the class\n",
        "print(\"Initial balance:\", my_account.check_balance())\n",
        "my_account.deposit(500.0)\n",
        "my_account.withdraw(200.0)\n",
        "my_account.withdraw(1500.0)  # This withdrawal should fail due to insufficient funds\n",
        "print(\"Final balance:\", my_account.check_balance())\n"
      ]
    }
  ]
}