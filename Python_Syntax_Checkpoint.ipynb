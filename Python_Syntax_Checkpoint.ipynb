{
  "nbformat": 4,
  "nbformat_minor": 0,
  "metadata": {
    "colab": {
      "provenance": [],
      "mount_file_id": "1JtDG5dqkI0yg6a3y_JRxGZt8bu_J-v2i",
      "authorship_tag": "ABX9TyOsldN+grLAcbQRKAJ3EkxY",
      "include_colab_link": true
    },
    "kernelspec": {
      "name": "python3",
      "display_name": "Python 3"
    },
    "language_info": {
      "name": "python"
    }
  },
  "cells": [
    {
      "cell_type": "markdown",
      "metadata": {
        "id": "view-in-github",
        "colab_type": "text"
      },
      "source": [
        "<a href=\"https://colab.research.google.com/github/Jessica-Emereuwa/GoMyCode-DataScience/blob/main/Python_Syntax_Checkpoint.ipynb\" target=\"_parent\"><img src=\"https://colab.research.google.com/assets/colab-badge.svg\" alt=\"Open In Colab\"/></a>"
      ]
    },
    {
      "cell_type": "code",
      "source": [
        "\"\"\"\n",
        "Congratulations, you've got a job at Python Pizza.\n",
        "Your first job is to build an automatic pizza order program.\n",
        "Based on a user's order, work out their final bill.\n",
        "Small Pizza: $15\n",
        "Medium Pizza: $20\n",
        "Large Pizza: $25\n",
        "If they want to add pepperoni :\n",
        " Pepperoni for Small Pizza: +$2\n",
        " Pepperoni for Medium or Large Pizza: +$3\n",
        "If they want cheese : Extra cheese for any size pizza: + $1\n",
        "\"\"\"\n",
        "\n",
        "\n",
        "\n",
        "print(\"Welcome to Python Pizza Deliveries!\")\n",
        "size = input(\"What size pizza do you want? S, M, or L \").upper()\n",
        "add_pepperoni = input(\"Do you want pepperoni? Y or N \").upper()\n",
        "extra_cheese = input(\"Do you want extra cheese? Y or N \").upper()\n",
        "\n",
        "\n",
        "bill = 0\n",
        "\n",
        "if size == \"S\":\n",
        "    bill += 15\n",
        "elif size == \"M\":\n",
        "    bill += 20\n",
        "else:\n",
        "    bill += 25\n",
        "\n",
        "if add_pepperoni == \"Y\":\n",
        "    if size == \"S\":\n",
        "        bill += 2\n",
        "    else:\n",
        "        bill += 3\n",
        "\n",
        "if extra_cheese == \"Y\":\n",
        "    bill += 1\n",
        "\n",
        "print(f\"Your final bill is: ${bill}.\")"
      ],
      "metadata": {
        "colab": {
          "base_uri": "https://localhost:8080/"
        },
        "id": "txNvYESVvF5L",
        "outputId": "7a7d1fee-b19e-4953-e171-9c688f02e7b3"
      },
      "execution_count": 1,
      "outputs": [
        {
          "output_type": "stream",
          "name": "stdout",
          "text": [
            "Welcome to Python Pizza Deliveries!\n",
            "What size pizza do you want? S, M, or L L\n",
            "Do you want pepperoni? Y or N Y\n",
            "Do you want extra cheese? Y or N N\n",
            "Your final bill is: $28.\n"
          ]
        }
      ]
    }
  ]
}