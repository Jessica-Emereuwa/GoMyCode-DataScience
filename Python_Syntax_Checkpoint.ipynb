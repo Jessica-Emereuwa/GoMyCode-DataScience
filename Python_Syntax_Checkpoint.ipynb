{
  "nbformat": 4,
  "nbformat_minor": 0,
  "metadata": {
    "colab": {
      "provenance": [],
      "authorship_tag": "ABX9TyODj8DP9Qp0Bj8TGWHUTvtR",
      "include_colab_link": true
    },
    "kernelspec": {
      "name": "python3",
      "display_name": "Python 3"
    },
    "language_info": {
      "name": "python"
    }
  },
  "cells": [
    {
      "cell_type": "markdown",
      "metadata": {
        "id": "view-in-github",
        "colab_type": "text"
      },
      "source": [
        "<a href=\"https://colab.research.google.com/github/Jessica-Emereuwa/GoMyCode-DataScience/blob/main/Python_Syntax_Checkpoint.ipynb\" target=\"_parent\"><img src=\"https://colab.research.google.com/assets/colab-badge.svg\" alt=\"Open In Colab\"/></a>"
      ]
    },
    {
      "cell_type": "code",
      "source": [
        "\"\"\"\n",
        "Congratulations, you've got a job at Python Pizza.\n",
        "Your first job is to build an automatic pizza order program.\n",
        "Based on a user's order, work out their final bill.\n",
        "Small Pizza: $15\n",
        "Medium Pizza: $20\n",
        "Large Pizza: $25\n",
        "If they want to add pepperoni :\n",
        " Pepperoni for Small Pizza: +$2\n",
        " Pepperoni for Medium or Large Pizza: +$3\n",
        "If they want cheese : Extra cheese for any size pizza: + $1\n",
        "\"\"\"\n",
        "\n",
        "\n",
        "\n",
        "print(\"Welcome to Python Pizza Deliveries!\")\n",
        "size = input(\"What size pizza do you want? S, M, or L \")\n",
        "add_pepperoni = input(\"Do you want pepperoni? Y or N \")\n",
        "extra_cheese = input(\"Do you want extra cheese? Y or N \")\n",
        "\n",
        "\n",
        "bill = 0\n",
        "\n",
        "if size == \"S\":\n",
        "    bill += 15\n",
        "elif size == \"M\":\n",
        "    bill += 20\n",
        "else:\n",
        "    bill += 25\n",
        "\n",
        "if add_pepperoni == \"Y\":\n",
        "    if size == \"S\":\n",
        "        bill += 2\n",
        "    else:\n",
        "        bill += 3\n",
        "\n",
        "if extra_cheese == \"Y\":\n",
        "    bill += 1\n",
        "\n",
        "print(f\"Your final bill is: ${bill}.\")"
      ],
      "metadata": {
        "colab": {
          "base_uri": "https://localhost:8080/"
        },
        "id": "txNvYESVvF5L",
        "outputId": "93962378-5c5a-4c43-de19-49d4b70b0564"
      },
      "execution_count": 1,
      "outputs": [
        {
          "output_type": "stream",
          "name": "stdout",
          "text": [
            "Welcome to Python Pizza Deliveries!\n",
            "What size pizza do you want? S, M, or L l\n",
            "Do you want pepperoni? Y or N y\n",
            "Do you want extra cheese? Y or N y\n",
            "Your final bill is: $25.\n"
          ]
        }
      ]
    }
  ]
}