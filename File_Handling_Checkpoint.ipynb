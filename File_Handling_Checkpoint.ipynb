{
  "nbformat": 4,
  "nbformat_minor": 0,
  "metadata": {
    "colab": {
      "provenance": [],
      "mount_file_id": "1LZ3xeYjDFs6uJJPTfcUFMZOJ8Ea49e-8",
      "authorship_tag": "ABX9TyMNSNgCxgyC/U/Vt2YwXr2E",
      "include_colab_link": true
    },
    "kernelspec": {
      "name": "python3",
      "display_name": "Python 3"
    },
    "language_info": {
      "name": "python"
    }
  },
  "cells": [
    {
      "cell_type": "markdown",
      "metadata": {
        "id": "view-in-github",
        "colab_type": "text"
      },
      "source": [
        "<a href=\"https://colab.research.google.com/github/Jessica-Emereuwa/GoMyCode-DataScience/blob/main/File_Handling_Checkpoint.ipynb\" target=\"_parent\"><img src=\"https://colab.research.google.com/assets/colab-badge.svg\" alt=\"Open In Colab\"/></a>"
      ]
    },
    {
      "cell_type": "code",
      "source": [
        "\"\"\"\n",
        "This dataset contains loan information, including loan ID, customer gender, location, region, total price for each loan etc.\n",
        "\n",
        "Instructions\n",
        "\n",
        "Begin by importing the necessary libraries, numpy.\n",
        "Use the open() function to open csv file and assign the result to a variable.\n",
        "Use the numpy array to perform some basic statistical analysis on the data, such as finding the mean, median, and standard deviation of the loan amounts.\n",
        "Note:\n",
        "\n",
        "Be sure to close the file after you have finished reading it in with the open() function.\n",
        "Use the delimiter parameter in the genfromtxt() function to specify that the values in the file are separated by commas.\n",
        "You can use the numpy functions mean(), median(), and std() to find the mean, median, and standard deviation of the loan amounts.\n",
        "\"\"\"\n",
        "\n",
        "\n",
        "import numpy as np\n",
        "\n",
        "# Open the CSV file\n",
        "with open('/content/drive/MyDrive/Colab Notebooks/Loan_prediction_dataset.csv', 'r') as file:\n",
        "    # Use numpy.genfromtxt() to read the data from the CSV file\n",
        "    data = np.genfromtxt(file, delimiter=',', names=True)\n",
        "\n",
        "# Extract loan amounts from the \"LoanAmount\" column\n",
        "# 'names=True' specifies that the first row contains column names\n",
        "loan_amount = data['LoanAmount']\n",
        "\n",
        "# Remove rows with missing values in the \"LoanAmount\" column\n",
        "# This ensures that only valid loan amounts are used for analysis\n",
        "data = data[~np.isnan(loan_amount)]\n",
        "loan_amount = loan_amount[~np.isnan(loan_amount)]\n",
        "\n",
        "# Perform basic statistical analysis\n",
        "mean_loan_amount = np.mean(loan_amount)\n",
        "median_loan_amount = np.median(loan_amount)\n",
        "std_loan_amount = np.std(loan_amount)\n",
        "\n",
        "# Print the results for mean, median and standard deviation\n",
        "print(\"Mean of Loan Amount:\", mean_loan_amount)\n",
        "print(\"Median of Loan Amount:\", median_loan_amount)\n",
        "print(\"Standard Deviation of Loan Amount:\", std_loan_amount)\n"
      ],
      "metadata": {
        "colab": {
          "base_uri": "https://localhost:8080/"
        },
        "id": "qObHbAMA6Dmq",
        "outputId": "12265f3a-d50b-49ce-c428-a72a378bec9b"
      },
      "execution_count": 2,
      "outputs": [
        {
          "output_type": "stream",
          "name": "stdout",
          "text": [
            "Mean of Loan Amount: 146.41216216216216\n",
            "Median of Loan Amount: 128.0\n",
            "Standard Deviation of Loan Amount: 85.51500809120331\n"
          ]
        }
      ]
    }
  ]
}